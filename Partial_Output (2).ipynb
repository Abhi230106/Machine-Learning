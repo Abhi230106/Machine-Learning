{
  "nbformat": 4,
  "nbformat_minor": 0,
  "metadata": {
    "colab": {
      "provenance": []
    },
    "kernelspec": {
      "name": "python3",
      "display_name": "Python 3"
    },
    "language_info": {
      "name": "python"
    }
  },
  "cells": [
    {
      "cell_type": "code",
      "execution_count": null,
      "metadata": {
        "colab": {
          "base_uri": "https://localhost:8080/"
        },
        "id": "7o5BL1zgSHGK",
        "outputId": "48f58a85-eb9e-448e-c491-99d568145486"
      },
      "outputs": [
        {
          "output_type": "stream",
          "name": "stdout",
          "text": [
            "\n",
            " Evaluating models on: 85% Data Loss\n",
            "\n",
            " Linear Regression\n",
            "  R² Score: -0.0023\n",
            "  MSE: 0.0830\n",
            "\n",
            " Random Forest\n",
            "  R² Score: -0.4415\n",
            "  MSE: 0.1193\n",
            "\n",
            " SVR\n",
            "  R² Score: -0.0469\n",
            "  MSE: 0.0867\n",
            "\n",
            " Evaluating models on: 90% Data Loss\n",
            "\n",
            " Linear Regression\n",
            "  R² Score: -0.0321\n",
            "  MSE: 0.0818\n",
            "\n",
            " Random Forest\n",
            "  R² Score: -0.1515\n",
            "  MSE: 0.0913\n",
            "\n",
            " SVR\n",
            "  R² Score: -0.1269\n",
            "  MSE: 0.0893\n"
          ]
        }
      ],
      "source": [
        "import pandas as pd\n",
        "from sklearn.model_selection import train_test_split\n",
        "from sklearn.linear_model import LinearRegression\n",
        "from sklearn.ensemble import RandomForestRegressor\n",
        "from sklearn.svm import SVR\n",
        "from sklearn.metrics import mean_squared_error, r2_score\n",
        "\n",
        "# Load datasets\n",
        "df_85 = pd.read_csv('/content/Reduced(chunked_code).csv')\n",
        "df_90 = pd.read_csv('/content/Reduced(code_error).csv')\n",
        "\n",
        "# NOTE: Replace this with your actual target if it exists\n",
        "import numpy as np\n",
        "target_85 = np.random.rand(len(df_85))\n",
        "target_90 = np.random.rand(len(df_90))\n",
        "\n",
        "# Function to evaluate regressors\n",
        "def evaluate_models(X, y, label):\n",
        "    print(f\"\\n Evaluating models on: {label}\")\n",
        "    X_train, X_test, y_train, y_test = train_test_split(X, y, test_size=0.2, random_state=42)\n",
        "\n",
        "    models = {\n",
        "        'Linear Regression': LinearRegression(),\n",
        "        'Random Forest': RandomForestRegressor(n_estimators=100, random_state=42),\n",
        "        'SVR': SVR()\n",
        "    }\n",
        "\n",
        "    for name, model in models.items():\n",
        "        model.fit(X_train, y_train)\n",
        "        y_pred = model.predict(X_test)\n",
        "        print(f\"\\n {name}\")\n",
        "        print(f\"  R² Score: {r2_score(y_test, y_pred):.4f}\")\n",
        "        print(f\"  MSE: {mean_squared_error(y_test, y_pred):.4f}\")\n",
        "\n",
        "# Evaluate both datasets\n",
        "evaluate_models(df_85, target_85, \"85% Data Loss\")\n",
        "evaluate_models(df_90, target_90, \"90% Data Loss\")\n"
      ]
    }
  ]
}