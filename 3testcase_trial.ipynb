{
  "nbformat": 4,
  "nbformat_minor": 0,
  "metadata": {
    "colab": {
      "provenance": [],
      "gpuType": "V28"
    },
    "kernelspec": {
      "name": "python3",
      "display_name": "Python 3"
    },
    "language_info": {
      "name": "python"
    },
    "accelerator": "TPU"
  },
  "cells": [
    {
      "cell_type": "code",
      "source": [
        "!pip install catboost\n",
        "!pip install openpyxl"
      ],
      "metadata": {
        "colab": {
          "base_uri": "https://localhost:8080/"
        },
        "id": "-1CicUo03GRo",
        "outputId": "386a2b0c-7013-446d-98bd-b6069f5a3f92"
      },
      "execution_count": 6,
      "outputs": [
        {
          "output_type": "stream",
          "name": "stdout",
          "text": [
            "Requirement already satisfied: catboost in /usr/local/lib/python3.11/dist-packages (1.2.8)\n",
            "Requirement already satisfied: graphviz in /usr/local/lib/python3.11/dist-packages (from catboost) (0.20.3)\n",
            "Requirement already satisfied: matplotlib in /usr/local/lib/python3.11/dist-packages (from catboost) (3.10.0)\n",
            "Requirement already satisfied: numpy<3.0,>=1.16.0 in /usr/local/lib/python3.11/dist-packages (from catboost) (2.0.2)\n",
            "Requirement already satisfied: pandas>=0.24 in /usr/local/lib/python3.11/dist-packages (from catboost) (2.2.2)\n",
            "Requirement already satisfied: scipy in /usr/local/lib/python3.11/dist-packages (from catboost) (1.15.2)\n",
            "Requirement already satisfied: plotly in /usr/local/lib/python3.11/dist-packages (from catboost) (5.24.1)\n",
            "Requirement already satisfied: six in /usr/local/lib/python3.11/dist-packages (from catboost) (1.17.0)\n",
            "Requirement already satisfied: python-dateutil>=2.8.2 in /usr/local/lib/python3.11/dist-packages (from pandas>=0.24->catboost) (2.9.0.post0)\n",
            "Requirement already satisfied: pytz>=2020.1 in /usr/local/lib/python3.11/dist-packages (from pandas>=0.24->catboost) (2025.2)\n",
            "Requirement already satisfied: tzdata>=2022.7 in /usr/local/lib/python3.11/dist-packages (from pandas>=0.24->catboost) (2025.2)\n",
            "Requirement already satisfied: contourpy>=1.0.1 in /usr/local/lib/python3.11/dist-packages (from matplotlib->catboost) (1.3.2)\n",
            "Requirement already satisfied: cycler>=0.10 in /usr/local/lib/python3.11/dist-packages (from matplotlib->catboost) (0.12.1)\n",
            "Requirement already satisfied: fonttools>=4.22.0 in /usr/local/lib/python3.11/dist-packages (from matplotlib->catboost) (4.57.0)\n",
            "Requirement already satisfied: kiwisolver>=1.3.1 in /usr/local/lib/python3.11/dist-packages (from matplotlib->catboost) (1.4.8)\n",
            "Requirement already satisfied: packaging>=20.0 in /usr/local/lib/python3.11/dist-packages (from matplotlib->catboost) (25.0)\n",
            "Requirement already satisfied: pillow>=8 in /usr/local/lib/python3.11/dist-packages (from matplotlib->catboost) (11.2.1)\n",
            "Requirement already satisfied: pyparsing>=2.3.1 in /usr/local/lib/python3.11/dist-packages (from matplotlib->catboost) (3.2.3)\n",
            "Requirement already satisfied: tenacity>=6.2.0 in /usr/local/lib/python3.11/dist-packages (from plotly->catboost) (9.1.2)\n",
            "Collecting openpyxl\n",
            "  Downloading openpyxl-3.1.5-py2.py3-none-any.whl.metadata (2.5 kB)\n",
            "Collecting et-xmlfile (from openpyxl)\n",
            "  Downloading et_xmlfile-2.0.0-py3-none-any.whl.metadata (2.7 kB)\n",
            "Downloading openpyxl-3.1.5-py2.py3-none-any.whl (250 kB)\n",
            "\u001b[2K   \u001b[90m━━━━━━━━━━━━━━━━━━━━━━━━━━━━━━━━━━━━━━━━\u001b[0m \u001b[32m250.9/250.9 kB\u001b[0m \u001b[31m4.2 MB/s\u001b[0m eta \u001b[36m0:00:00\u001b[0m\n",
            "\u001b[?25hDownloading et_xmlfile-2.0.0-py3-none-any.whl (18 kB)\n",
            "Installing collected packages: et-xmlfile, openpyxl\n",
            "Successfully installed et-xmlfile-2.0.0 openpyxl-3.1.5\n"
          ]
        }
      ]
    },
    {
      "cell_type": "code",
      "execution_count": 11,
      "metadata": {
        "colab": {
          "base_uri": "https://localhost:8080/"
        },
        "id": "omRQjyHtvE34",
        "outputId": "69d36ba6-4cf0-4928-c833-e45d4b69040b"
      },
      "outputs": [
        {
          "output_type": "stream",
          "name": "stdout",
          "text": [
            "\n",
            "=== Running: Whole Code Block ===\n",
            "Whole Code Block → R2: -0.0965, RMSE: 2.0728\n",
            "\n",
            "=== Running: Chunked Code Block ===\n",
            "Chunked Code Block → R2: 0.3341, RMSE: 1.6081\n",
            "\n",
            "=== Running: Logic Chunked ===\n",
            "Logic Chunked → R2: 0.9987, RMSE: 0.0043\n",
            "\n",
            "=== Final Evaluation Summary ===\n",
            "Whole Code Block: R2 = -0.0965, RMSE = 2.0728\n",
            "Chunked Code Block: R2 = 0.3341, RMSE = 1.6081\n",
            "Logic Chunked: R2 = 0.9987, RMSE = 0.0043\n"
          ]
        }
      ],
      "source": [
        "import pandas as pd\n",
        "import numpy as np\n",
        "import os\n",
        "from sklearn.model_selection import train_test_split\n",
        "from sklearn.metrics import r2_score, mean_squared_error\n",
        "from catboost import CatBoostRegressor\n",
        "\n",
        "# === File paths for each test case ===\n",
        "file_paths = {\n",
        "    \"Whole Code Block\": \"/content/code_with_error_embeddings_with_marks.xlsx\",\n",
        "    \"Chunked Code Block\": \"/content/chunked_code_embeddings_with_marks.xlsx\",\n",
        "    \"Logic Chunked\": \"/content/Chunked_Embedding_Python_code(logic).xlsx\"\n",
        "}\n",
        "\n",
        "# === Dictionary to store results ===\n",
        "results = {}\n",
        "\n",
        "# === Loop through each test case ===\n",
        "for test_name, file_path in file_paths.items():\n",
        "    print(f\"\\n=== Running: {test_name} ===\")\n",
        "\n",
        "    # Check if file exists\n",
        "    if not os.path.exists(file_path):\n",
        "        print(f\"❌ File not found: {file_path}\")\n",
        "        continue\n",
        "\n",
        "    try:\n",
        "        # Load dataset (fast engine, limit to numeric data)\n",
        "        df = pd.read_excel(file_path, engine='openpyxl')\n",
        "\n",
        "        # Keep only numeric columns (drop raw code strings etc.)\n",
        "        df_numeric = df.select_dtypes(include=[np.number])\n",
        "\n",
        "        if df_numeric.shape[1] < 2:\n",
        "            print(f\"❌ Error: Not enough numeric columns in {test_name} to train a model.\")\n",
        "            continue\n",
        "\n",
        "        # Split into features and target\n",
        "        X = df_numeric.iloc[:, :-1].values\n",
        "        y = df_numeric.iloc[:, -1].values\n",
        "\n",
        "        # Train-test split\n",
        "        X_train, X_test, y_train, y_test = train_test_split(X, y, test_size=0.2, random_state=42)\n",
        "\n",
        "        # Initialize and train CatBoost model\n",
        "        model = CatBoostRegressor(iterations=100, learning_rate=0.1, verbose=0, random_seed=42)\n",
        "        model.fit(X_train, y_train)\n",
        "\n",
        "        # Predict and evaluate\n",
        "        y_pred = model.predict(X_test)\n",
        "        r2 = r2_score(y_test, y_pred)\n",
        "        rmse = np.sqrt(mean_squared_error(y_test, y_pred))\n",
        "\n",
        "        # Store results\n",
        "        results[test_name] = {\"R2\": r2, \"RMSE\": rmse}\n",
        "        print(f\"{test_name} → R2: {r2:.4f}, RMSE: {rmse:.4f}\")\n",
        "\n",
        "    except Exception as e:\n",
        "        print(f\"❌ Error processing {test_name}: {e}\")\n",
        "\n",
        "# === Final Summary ===\n",
        "print(\"\\n=== Final Evaluation Summary ===\")\n",
        "for name, metrics in results.items():\n",
        "    print(f\"{name}: R2 = {metrics['R2']:.4f}, RMSE = {metrics['RMSE']:.4f}\")\n"
      ]
    }
  ]
}